{
  "nbformat": 4,
  "nbformat_minor": 0,
  "metadata": {
    "colab": {
      "provenance": []
    },
    "kernelspec": {
      "name": "python3",
      "display_name": "Python 3"
    },
    "language_info": {
      "name": "python"
    }
  },
  "cells": [
    {
      "cell_type": "code",
      "execution_count": null,
      "metadata": {
        "id": "0fzlcl8eghA3"
      },
      "outputs": [],
      "source": [
        "import requests\n",
        "from bs4 import BeautifulSoup\n",
        "import pandas as pd"
      ]
    },
    {
      "cell_type": "code",
      "source": [
        "from google.colab import drive\n",
        "drive.mount('/content/drive')"
      ],
      "metadata": {
        "id": "jELFYL_gZoD_"
      },
      "execution_count": null,
      "outputs": []
    },
    {
      "cell_type": "code",
      "source": [
        "mobile_name = []\n",
        "mobile_price = []\n",
        "mobile_desc = []\n",
        "mobile_rating = []"
      ],
      "metadata": {
        "id": "S5ABXMb6giJp"
      },
      "execution_count": null,
      "outputs": []
    },
    {
      "cell_type": "code",
      "source": [
        "for i in range(2, 14):\n",
        "    url = \"https://www.flipkart.com/search?q=phones&otracker=search&otracker1=search&marketplace=FLIPKART&as-show=on&as=off&page=2\"#+str(i);\n",
        "\n",
        "\n",
        "    r = requests.get(url)\n",
        "    result = r.content\n",
        "    soup = BeautifulSoup(result, 'html.parser')\n",
        "    block = soup.find(\"div\", \"_1YokD2 _3Mn1Gg\")\n",
        "\n",
        "    name = block.find_all('div', '_4rR01T')\n",
        "    for i in name:\n",
        "        names = i.text\n",
        "        mobile_name.append(names)\n",
        "\n",
        "\n",
        "    price = block.find_all('div', '_30jeq3 _1_WHN1')\n",
        "    for i in price:\n",
        "        p = i.text\n",
        "        mobile_price.append(p)\n",
        "\n",
        "\n",
        "    desc = block.find_all('div', 'fMghEO')\n",
        "    for i in desc:\n",
        "        des = i.text\n",
        "        mobile_desc.append(des)\n",
        "\n",
        "\n",
        "    rating = block.find_all('div', '_3LWZlK')\n",
        "    for i in rating:\n",
        "        r = i.text\n",
        "        mobile_rating.append(r)\n",
        "\n",
        "\n",
        "\n",
        " #df = pd.DataFrame({'Name':mobile_name, 'Price':mobile_price, \"Rating\":mobile_rating, 'Description':mobile_desc })\n",
        " #df"
      ],
      "metadata": {
        "id": "HtXKTd3sgpHk"
      },
      "execution_count": null,
      "outputs": []
    },
    {
      "cell_type": "code",
      "source": [
        " df = pd.DataFrame({'Name':mobile_name, 'Price':mobile_price, 'Description':mobile_desc})#\"Rating\":mobile_rating, 'Description':mobile_desc\n",
        " df"
      ],
      "metadata": {
        "colab": {
          "base_uri": "https://localhost:8080/"
        },
        "id": "ubg8xGPGg2XK",
        "outputId": "9575579d-c961-43b3-e610-4ca05fdd2294"
      },
      "execution_count": null,
      "outputs": [
        {
          "output_type": "execute_result",
          "data": {
            "text/plain": [
              "                                        Name    Price  \\\n",
              "0         realme C53 (Champion Gold, 128 GB)   ₹9,999   \n",
              "1         MOTOROLA e13 (Cosmic Black, 64 GB)   ₹7,299   \n",
              "2     realme 11x 5G (Midnight Black, 128 GB)  ₹14,999   \n",
              "3          OPPO Reno10 5G (Ice Blue, 256 GB)  ₹32,999   \n",
              "4                POCO C55 (Cool Blue, 64 GB)   ₹7,499   \n",
              "..                                       ...      ...   \n",
              "283        Infinix HOT 30i (Marigold, 64 GB)   ₹8,199   \n",
              "284  Infinix HOT 30i (Diamond White, 128 GB)   ₹8,999   \n",
              "285       Infinix HOT 30i (Marigold, 128 GB)   ₹8,999   \n",
              "286    Infinix HOT 30i (Glacier Blue, 64 GB)   ₹8,199   \n",
              "287  SAMSUNG Galaxy F04 (Jade Purple, 64 GB)   ₹8,499   \n",
              "\n",
              "                                           Description  \n",
              "0    4 GB RAM | 128 GB ROM | Expandable Upto 2 TB17...  \n",
              "1    4 GB RAM | 64 GB ROM | Expandable Upto 1 TB16....  \n",
              "2    6 GB RAM | 128 GB ROM | Expandable Upto 2 TB17...  \n",
              "3    8 GB RAM | 256 GB ROM17.02 cm (6.7 inch) Full ...  \n",
              "4    4 GB RAM | 64 GB ROM | Expandable Upto 1 TB17....  \n",
              "..                                                 ...  \n",
              "283  4 GB RAM | 64 GB ROM | Expandable Upto 1 TB16....  \n",
              "284  8 GB RAM | 128 GB ROM | Expandable Upto 1 TB16...  \n",
              "285  8 GB RAM | 128 GB ROM | Expandable Upto 1 TB16...  \n",
              "286  4 GB RAM | 64 GB ROM | Expandable Upto 1 TB16....  \n",
              "287  4 GB RAM | 64 GB ROM | Expandable Upto 1 TB16....  \n",
              "\n",
              "[288 rows x 3 columns]"
            ],
            "text/html": [
              "\n",
              "  <div id=\"df-eec399b5-eca4-448c-ac14-dbb5addc3afb\" class=\"colab-df-container\">\n",
              "    <div>\n",
              "<style scoped>\n",
              "    .dataframe tbody tr th:only-of-type {\n",
              "        vertical-align: middle;\n",
              "    }\n",
              "\n",
              "    .dataframe tbody tr th {\n",
              "        vertical-align: top;\n",
              "    }\n",
              "\n",
              "    .dataframe thead th {\n",
              "        text-align: right;\n",
              "    }\n",
              "</style>\n",
              "<table border=\"1\" class=\"dataframe\">\n",
              "  <thead>\n",
              "    <tr style=\"text-align: right;\">\n",
              "      <th></th>\n",
              "      <th>Name</th>\n",
              "      <th>Price</th>\n",
              "      <th>Description</th>\n",
              "    </tr>\n",
              "  </thead>\n",
              "  <tbody>\n",
              "    <tr>\n",
              "      <th>0</th>\n",
              "      <td>realme C53 (Champion Gold, 128 GB)</td>\n",
              "      <td>₹9,999</td>\n",
              "      <td>4 GB RAM | 128 GB ROM | Expandable Upto 2 TB17...</td>\n",
              "    </tr>\n",
              "    <tr>\n",
              "      <th>1</th>\n",
              "      <td>MOTOROLA e13 (Cosmic Black, 64 GB)</td>\n",
              "      <td>₹7,299</td>\n",
              "      <td>4 GB RAM | 64 GB ROM | Expandable Upto 1 TB16....</td>\n",
              "    </tr>\n",
              "    <tr>\n",
              "      <th>2</th>\n",
              "      <td>realme 11x 5G (Midnight Black, 128 GB)</td>\n",
              "      <td>₹14,999</td>\n",
              "      <td>6 GB RAM | 128 GB ROM | Expandable Upto 2 TB17...</td>\n",
              "    </tr>\n",
              "    <tr>\n",
              "      <th>3</th>\n",
              "      <td>OPPO Reno10 5G (Ice Blue, 256 GB)</td>\n",
              "      <td>₹32,999</td>\n",
              "      <td>8 GB RAM | 256 GB ROM17.02 cm (6.7 inch) Full ...</td>\n",
              "    </tr>\n",
              "    <tr>\n",
              "      <th>4</th>\n",
              "      <td>POCO C55 (Cool Blue, 64 GB)</td>\n",
              "      <td>₹7,499</td>\n",
              "      <td>4 GB RAM | 64 GB ROM | Expandable Upto 1 TB17....</td>\n",
              "    </tr>\n",
              "    <tr>\n",
              "      <th>...</th>\n",
              "      <td>...</td>\n",
              "      <td>...</td>\n",
              "      <td>...</td>\n",
              "    </tr>\n",
              "    <tr>\n",
              "      <th>283</th>\n",
              "      <td>Infinix HOT 30i (Marigold, 64 GB)</td>\n",
              "      <td>₹8,199</td>\n",
              "      <td>4 GB RAM | 64 GB ROM | Expandable Upto 1 TB16....</td>\n",
              "    </tr>\n",
              "    <tr>\n",
              "      <th>284</th>\n",
              "      <td>Infinix HOT 30i (Diamond White, 128 GB)</td>\n",
              "      <td>₹8,999</td>\n",
              "      <td>8 GB RAM | 128 GB ROM | Expandable Upto 1 TB16...</td>\n",
              "    </tr>\n",
              "    <tr>\n",
              "      <th>285</th>\n",
              "      <td>Infinix HOT 30i (Marigold, 128 GB)</td>\n",
              "      <td>₹8,999</td>\n",
              "      <td>8 GB RAM | 128 GB ROM | Expandable Upto 1 TB16...</td>\n",
              "    </tr>\n",
              "    <tr>\n",
              "      <th>286</th>\n",
              "      <td>Infinix HOT 30i (Glacier Blue, 64 GB)</td>\n",
              "      <td>₹8,199</td>\n",
              "      <td>4 GB RAM | 64 GB ROM | Expandable Upto 1 TB16....</td>\n",
              "    </tr>\n",
              "    <tr>\n",
              "      <th>287</th>\n",
              "      <td>SAMSUNG Galaxy F04 (Jade Purple, 64 GB)</td>\n",
              "      <td>₹8,499</td>\n",
              "      <td>4 GB RAM | 64 GB ROM | Expandable Upto 1 TB16....</td>\n",
              "    </tr>\n",
              "  </tbody>\n",
              "</table>\n",
              "<p>288 rows × 3 columns</p>\n",
              "</div>\n",
              "    <div class=\"colab-df-buttons\">\n",
              "\n",
              "  <div class=\"colab-df-container\">\n",
              "    <button class=\"colab-df-convert\" onclick=\"convertToInteractive('df-eec399b5-eca4-448c-ac14-dbb5addc3afb')\"\n",
              "            title=\"Convert this dataframe to an interactive table.\"\n",
              "            style=\"display:none;\">\n",
              "\n",
              "  <svg xmlns=\"http://www.w3.org/2000/svg\" height=\"24px\" viewBox=\"0 -960 960 960\">\n",
              "    <path d=\"M120-120v-720h720v720H120Zm60-500h600v-160H180v160Zm220 220h160v-160H400v160Zm0 220h160v-160H400v160ZM180-400h160v-160H180v160Zm440 0h160v-160H620v160ZM180-180h160v-160H180v160Zm440 0h160v-160H620v160Z\"/>\n",
              "  </svg>\n",
              "    </button>\n",
              "\n",
              "  <style>\n",
              "    .colab-df-container {\n",
              "      display:flex;\n",
              "      gap: 12px;\n",
              "    }\n",
              "\n",
              "    .colab-df-convert {\n",
              "      background-color: #E8F0FE;\n",
              "      border: none;\n",
              "      border-radius: 50%;\n",
              "      cursor: pointer;\n",
              "      display: none;\n",
              "      fill: #1967D2;\n",
              "      height: 32px;\n",
              "      padding: 0 0 0 0;\n",
              "      width: 32px;\n",
              "    }\n",
              "\n",
              "    .colab-df-convert:hover {\n",
              "      background-color: #E2EBFA;\n",
              "      box-shadow: 0px 1px 2px rgba(60, 64, 67, 0.3), 0px 1px 3px 1px rgba(60, 64, 67, 0.15);\n",
              "      fill: #174EA6;\n",
              "    }\n",
              "\n",
              "    .colab-df-buttons div {\n",
              "      margin-bottom: 4px;\n",
              "    }\n",
              "\n",
              "    [theme=dark] .colab-df-convert {\n",
              "      background-color: #3B4455;\n",
              "      fill: #D2E3FC;\n",
              "    }\n",
              "\n",
              "    [theme=dark] .colab-df-convert:hover {\n",
              "      background-color: #434B5C;\n",
              "      box-shadow: 0px 1px 3px 1px rgba(0, 0, 0, 0.15);\n",
              "      filter: drop-shadow(0px 1px 2px rgba(0, 0, 0, 0.3));\n",
              "      fill: #FFFFFF;\n",
              "    }\n",
              "  </style>\n",
              "\n",
              "    <script>\n",
              "      const buttonEl =\n",
              "        document.querySelector('#df-eec399b5-eca4-448c-ac14-dbb5addc3afb button.colab-df-convert');\n",
              "      buttonEl.style.display =\n",
              "        google.colab.kernel.accessAllowed ? 'block' : 'none';\n",
              "\n",
              "      async function convertToInteractive(key) {\n",
              "        const element = document.querySelector('#df-eec399b5-eca4-448c-ac14-dbb5addc3afb');\n",
              "        const dataTable =\n",
              "          await google.colab.kernel.invokeFunction('convertToInteractive',\n",
              "                                                    [key], {});\n",
              "        if (!dataTable) return;\n",
              "\n",
              "        const docLinkHtml = 'Like what you see? Visit the ' +\n",
              "          '<a target=\"_blank\" href=https://colab.research.google.com/notebooks/data_table.ipynb>data table notebook</a>'\n",
              "          + ' to learn more about interactive tables.';\n",
              "        element.innerHTML = '';\n",
              "        dataTable['output_type'] = 'display_data';\n",
              "        await google.colab.output.renderOutput(dataTable, element);\n",
              "        const docLink = document.createElement('div');\n",
              "        docLink.innerHTML = docLinkHtml;\n",
              "        element.appendChild(docLink);\n",
              "      }\n",
              "    </script>\n",
              "  </div>\n",
              "\n",
              "\n",
              "<div id=\"df-d690efc0-b291-492e-8248-0396defe43eb\">\n",
              "  <button class=\"colab-df-quickchart\" onclick=\"quickchart('df-d690efc0-b291-492e-8248-0396defe43eb')\"\n",
              "            title=\"Suggest charts.\"\n",
              "            style=\"display:none;\">\n",
              "\n",
              "<svg xmlns=\"http://www.w3.org/2000/svg\" height=\"24px\"viewBox=\"0 0 24 24\"\n",
              "     width=\"24px\">\n",
              "    <g>\n",
              "        <path d=\"M19 3H5c-1.1 0-2 .9-2 2v14c0 1.1.9 2 2 2h14c1.1 0 2-.9 2-2V5c0-1.1-.9-2-2-2zM9 17H7v-7h2v7zm4 0h-2V7h2v10zm4 0h-2v-4h2v4z\"/>\n",
              "    </g>\n",
              "</svg>\n",
              "  </button>\n",
              "\n",
              "<style>\n",
              "  .colab-df-quickchart {\n",
              "    background-color: #E8F0FE;\n",
              "    border: none;\n",
              "    border-radius: 50%;\n",
              "    cursor: pointer;\n",
              "    display: none;\n",
              "    fill: #1967D2;\n",
              "    height: 32px;\n",
              "    padding: 0 0 0 0;\n",
              "    width: 32px;\n",
              "  }\n",
              "\n",
              "  .colab-df-quickchart:hover {\n",
              "    background-color: #E2EBFA;\n",
              "    box-shadow: 0px 1px 2px rgba(60, 64, 67, 0.3), 0px 1px 3px 1px rgba(60, 64, 67, 0.15);\n",
              "    fill: #174EA6;\n",
              "  }\n",
              "\n",
              "  [theme=dark] .colab-df-quickchart {\n",
              "    background-color: #3B4455;\n",
              "    fill: #D2E3FC;\n",
              "  }\n",
              "\n",
              "  [theme=dark] .colab-df-quickchart:hover {\n",
              "    background-color: #434B5C;\n",
              "    box-shadow: 0px 1px 3px 1px rgba(0, 0, 0, 0.15);\n",
              "    filter: drop-shadow(0px 1px 2px rgba(0, 0, 0, 0.3));\n",
              "    fill: #FFFFFF;\n",
              "  }\n",
              "</style>\n",
              "\n",
              "  <script>\n",
              "    async function quickchart(key) {\n",
              "      const charts = await google.colab.kernel.invokeFunction(\n",
              "          'suggestCharts', [key], {});\n",
              "    }\n",
              "    (() => {\n",
              "      let quickchartButtonEl =\n",
              "        document.querySelector('#df-d690efc0-b291-492e-8248-0396defe43eb button');\n",
              "      quickchartButtonEl.style.display =\n",
              "        google.colab.kernel.accessAllowed ? 'block' : 'none';\n",
              "    })();\n",
              "  </script>\n",
              "</div>\n",
              "    </div>\n",
              "  </div>\n"
            ]
          },
          "metadata": {},
          "execution_count": 6
        }
      ]
    },
    {
      "cell_type": "code",
      "source": [
        "len(mobile_name)"
      ],
      "metadata": {
        "id": "CPWiy4EKhDul",
        "colab": {
          "base_uri": "https://localhost:8080/"
        },
        "outputId": "4ba534c1-dd93-467b-a4cb-8df4d5361029"
      },
      "execution_count": null,
      "outputs": [
        {
          "output_type": "execute_result",
          "data": {
            "text/plain": [
              "288"
            ]
          },
          "metadata": {},
          "execution_count": 7
        }
      ]
    },
    {
      "cell_type": "code",
      "source": [
        "len(mobile_price)"
      ],
      "metadata": {
        "colab": {
          "base_uri": "https://localhost:8080/"
        },
        "id": "DAzyNZ9gcQOH",
        "outputId": "80f8810d-0cfd-4f58-b30a-a2e08bf6340f"
      },
      "execution_count": null,
      "outputs": [
        {
          "output_type": "execute_result",
          "data": {
            "text/plain": [
              "288"
            ]
          },
          "metadata": {},
          "execution_count": 8
        }
      ]
    },
    {
      "cell_type": "code",
      "source": [
        "len(mobile_desc)"
      ],
      "metadata": {
        "colab": {
          "base_uri": "https://localhost:8080/"
        },
        "id": "DnBzhhsGcUft",
        "outputId": "a3ed1551-55c1-46cd-d919-718462b459e8"
      },
      "execution_count": null,
      "outputs": [
        {
          "output_type": "execute_result",
          "data": {
            "text/plain": [
              "288"
            ]
          },
          "metadata": {},
          "execution_count": 9
        }
      ]
    },
    {
      "cell_type": "code",
      "source": [
        "len(mobile_rating)"
      ],
      "metadata": {
        "colab": {
          "base_uri": "https://localhost:8080/"
        },
        "id": "AtAuZOv0d66Y",
        "outputId": "5c8a42b4-bb84-4ec5-ce59-42ecfaa6adf8"
      },
      "execution_count": null,
      "outputs": [
        {
          "output_type": "execute_result",
          "data": {
            "text/plain": [
              "264"
            ]
          },
          "metadata": {},
          "execution_count": 10
        }
      ]
    },
    {
      "cell_type": "code",
      "source": [],
      "metadata": {
        "id": "GJQPKWTeeTXn"
      },
      "execution_count": null,
      "outputs": []
    }
  ]
}